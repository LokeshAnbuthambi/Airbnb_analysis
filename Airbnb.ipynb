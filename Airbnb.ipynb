{
 "cells": [
  {
   "cell_type": "code",
   "execution_count": 1,
   "metadata": {},
   "outputs": [],
   "source": [
    "import pandas as pd\n",
    "import json\n",
    "with open(\"F:/DS/MDTM20/VS Code/Airbnb/sample_airbnb.json\", 'r') as file:\n",
    "    airbnb_data = json.load(file)"
   ]
  },
  {
   "cell_type": "code",
   "execution_count": null,
   "metadata": {},
   "outputs": [],
   "source": [
    "airbnb_data"
   ]
  },
  {
   "cell_type": "code",
   "execution_count": null,
   "metadata": {},
   "outputs": [],
   "source": [
    "airbnb_df = pd.DataFrame(airbnb_data)\n",
    "airbnb_df.columns"
   ]
  },
  {
   "cell_type": "code",
   "execution_count": 5,
   "metadata": {},
   "outputs": [
    {
     "name": "stdout",
     "output_type": "stream",
     "text": [
      "0\n"
     ]
    }
   ],
   "source": [
    "duplicates = airbnb_df.duplicated(subset = '_id', keep = False)\n",
    "print(duplicates.sum())"
   ]
  },
  {
   "cell_type": "code",
   "execution_count": null,
   "metadata": {},
   "outputs": [],
   "source": [
    "airbnb_df.head()"
   ]
  },
  {
   "cell_type": "code",
   "execution_count": 7,
   "metadata": {},
   "outputs": [],
   "source": [
    "#Extracting the necessary values from the dictionary\n",
    "airbnb_df[\"images\"]= airbnb_df[\"images\"].apply(lambda x: x[\"picture_url\"])\n",
    "airbnb_df[\"review_scores\"]= airbnb_df[\"review_scores\"].apply(lambda x: x.get(\"review_scores_rating\",0))"
   ]
  },
  {
   "cell_type": "code",
   "execution_count": 8,
   "metadata": {},
   "outputs": [
    {
     "data": {
      "text/plain": [
       "4841"
      ]
     },
     "execution_count": 8,
     "metadata": {},
     "output_type": "execute_result"
    }
   ],
   "source": [
    "airbnb_df['weekly_price'].isnull().sum()\n",
    "airbnb_df['monthly_price'].isnull().sum()\n",
    "airbnb_df['reviews_per_month'].isnull().sum()"
   ]
  },
  {
   "cell_type": "code",
   "execution_count": 9,
   "metadata": {},
   "outputs": [],
   "source": [
    "#dropping the weekly_price column which has highest number of null values\n",
    "airbnb_df.drop('weekly_price', axis = 1, inplace = True)\n",
    "\n",
    "#dropping the monthly_price column which has highest number of null values\n",
    "airbnb_df.drop('monthly_price', axis = 1, inplace = True)\n",
    "\n",
    "#dropping the reviews_per_month column which has highest number of null values\n",
    "airbnb_df.drop('reviews_per_month', axis = 1, inplace = True)"
   ]
  },
  {
   "cell_type": "code",
   "execution_count": 12,
   "metadata": {},
   "outputs": [],
   "source": [
    "#Handling the null avlues by filling zeros\n",
    "airbnb_df[\"beds\"].fillna(0,inplace= True)\n",
    "airbnb_df[\"bedrooms\"].fillna(0,inplace= True)\n",
    "airbnb_df[\"bathrooms\"].fillna(0,inplace= True)\n",
    "airbnb_df[\"cleaning_fee\"].fillna(0,inplace= True)\n",
    "airbnb_df[\"security_deposit\"].fillna(0,inplace= True)"
   ]
  },
  {
   "cell_type": "code",
   "execution_count": null,
   "metadata": {},
   "outputs": [],
   "source": [
    "airbnb_df.columns"
   ]
  },
  {
   "cell_type": "code",
   "execution_count": null,
   "metadata": {},
   "outputs": [],
   "source": [
    "airbnb_df.dtypes"
   ]
  },
  {
   "cell_type": "code",
   "execution_count": 15,
   "metadata": {},
   "outputs": [],
   "source": [
    "#Converting the datatypes\n",
    "airbnb_df[\"minimum_nights\"]= airbnb_df[\"minimum_nights\"].astype(int)\n",
    "airbnb_df[\"maximum_nights\"]= airbnb_df[\"maximum_nights\"].astype(int)\n",
    "airbnb_df[\"bedrooms\"]= airbnb_df[\"bedrooms\"].astype(int)\n",
    "airbnb_df[\"beds\"]= airbnb_df[\"beds\"].astype(int)\n",
    "airbnb_df[\"bathrooms\"]= airbnb_df[\"bathrooms\"].astype(int)\n",
    "airbnb_df[\"extra_people\"]= airbnb_df[\"extra_people\"].astype(int)\n",
    "airbnb_df[\"guests_included\"]= airbnb_df[\"guests_included\"].astype(int)\n",
    "airbnb_df[\"cleaning_fee\"]= airbnb_df[\"cleaning_fee\"].astype(int)"
   ]
  },
  {
   "cell_type": "code",
   "execution_count": 17,
   "metadata": {},
   "outputs": [],
   "source": [
    "#Collecting the host data from the airbnb_data\n",
    "host_columns= {'_id':[],'host_id':[], 'host_url':[], 'host_name':[], 'host_location':[],\"host_response_time\":[], 'host_thumbnail_url':[], 'host_picture_url':[], 'host_neighbourhood':[], 'host_response_rate':[], 'host_is_superhost':[], 'host_has_profile_pic':[], 'host_identity_verified':[], 'host_listings_count':[], 'host_total_listings_count':[], 'host_verifications':[]}\n",
    "\n",
    "for i in airbnb_df[\"_id\"]:\n",
    "    host_columns[\"_id\"].append(i)\n",
    "for i in airbnb_df[\"host\"]:\n",
    "    host_columns[\"host_id\"].append(i[\"host_id\"])\n",
    "    host_columns[\"host_url\"].append(i[\"host_url\"])\n",
    "    host_columns[\"host_name\"].append(i[\"host_name\"])\n",
    "    host_columns[\"host_location\"].append(i[\"host_location\"])\n",
    "    host_columns[\"host_response_time\"].append(i.get(\"host_response_time\"))\n",
    "    host_columns[\"host_thumbnail_url\"].append(i[\"host_thumbnail_url\"])\n",
    "    host_columns[\"host_picture_url\"].append(i[\"host_picture_url\"])\n",
    "    host_columns[\"host_neighbourhood\"].append(i[\"host_neighbourhood\"])\n",
    "    host_columns[\"host_response_rate\"].append(i.get(\"host_response_rate\"))\n",
    "    host_columns[\"host_is_superhost\"].append(i[\"host_is_superhost\"])\n",
    "    host_columns[\"host_has_profile_pic\"].append(i[\"host_has_profile_pic\"])\n",
    "    host_columns[\"host_identity_verified\"].append(i[\"host_identity_verified\"])\n",
    "    host_columns[\"host_listings_count\"].append(i[\"host_listings_count\"])\n",
    "    host_columns[\"host_total_listings_count\"].append(i[\"host_total_listings_count\"])\n",
    "    host_columns[\"host_verifications\"].append(i[\"host_verifications\"])"
   ]
  },
  {
   "cell_type": "code",
   "execution_count": 18,
   "metadata": {},
   "outputs": [],
   "source": [
    "host_df = pd.DataFrame(host_columns)\n",
    "host_df"
   ]
  },
  {
   "cell_type": "code",
   "execution_count": null,
   "metadata": {},
   "outputs": [],
   "source": [
    "host_df.isnull().sum()"
   ]
  },
  {
   "cell_type": "code",
   "execution_count": 21,
   "metadata": {},
   "outputs": [
    {
     "data": {
      "text/plain": [
       "1923"
      ]
     },
     "execution_count": 21,
     "metadata": {},
     "output_type": "execute_result"
    }
   ],
   "source": [
    "#Host_neighbourhood have more empty values ('')\n",
    "#Finding the how many values are empty\n",
    "empty_values= []\n",
    "for index,row in host_df.iterrows():\n",
    "    if row[\"host_neighbourhood\"] =='':\n",
    "        empty_values.append(index)\n",
    "len(empty_values)"
   ]
  },
  {
   "cell_type": "code",
   "execution_count": 22,
   "metadata": {},
   "outputs": [],
   "source": [
    "#Handling the null values and empty spaces\n",
    "host_df[\"host_response_time\"].fillna(\"Not Specified\",inplace= True)\n",
    "host_df[\"host_response_rate\"].fillna(\"Not Specified\",inplace= True)\n",
    "host_df[\"host_neighbourhood\"]= host_df[\"host_neighbourhood\"].replace({'':\"Not Specified\"})"
   ]
  },
  {
   "cell_type": "code",
   "execution_count": 23,
   "metadata": {},
   "outputs": [],
   "source": [
    "#Changing the \"True\" or \"False\" to \"Yes\" or \"No\"\n",
    "host_df[\"host_is_superhost\"]= host_df[\"host_is_superhost\"].map({False: \"No\", True: \"Yes\"})\n",
    "host_df[\"host_has_profile_pic\"]= host_df[\"host_has_profile_pic\"].map({False: \"No\", True: \"Yes\"})\n",
    "host_df[\"host_identity_verified\"]= host_df[\"host_identity_verified\"].map({False: \"No\", True: \"Yes\"})"
   ]
  },
  {
   "cell_type": "code",
   "execution_count": 24,
   "metadata": {},
   "outputs": [],
   "source": [
    "address_columns= {'_id':[], 'street':[], 'suburb':[], 'government_area':[], 'market':[], 'country':[],\n",
    "                   'country_code':[], 'location_type':[], \"longitude\":[], \"latitude\":[],\n",
    "                    \"is_location_exact\":[]}\n",
    "\n",
    "for i in airbnb_df[\"_id\"]:\n",
    "    address_columns[\"_id\"].append(i)\n",
    "\n",
    "for i in airbnb_df[\"address\"]:\n",
    "    address_columns[\"street\"].append(i[\"street\"])\n",
    "    address_columns[\"suburb\"].append(i[\"suburb\"])\n",
    "    address_columns[\"government_area\"].append(i[\"government_area\"])\n",
    "    address_columns[\"market\"].append(i[\"market\"])\n",
    "    address_columns[\"country\"].append(i[\"country\"])\n",
    "    address_columns[\"country_code\"].append(i[\"country_code\"])\n",
    "    address_columns[\"location_type\"].append(i[\"location\"][\"type\"])\n",
    "    address_columns[\"longitude\"].append(i[\"location\"][\"coordinates\"][0])\n",
    "    address_columns[\"latitude\"].append(i[\"location\"][\"coordinates\"][1])\n",
    "    address_columns[\"is_location_exact\"].append(i[\"location\"][\"is_location_exact\"])"
   ]
  },
  {
   "cell_type": "code",
   "execution_count": 25,
   "metadata": {},
   "outputs": [],
   "source": [
    "location_df = pd.DataFrame(address_columns)\n",
    "location_df"
   ]
  },
  {
   "cell_type": "code",
   "execution_count": 26,
   "metadata": {},
   "outputs": [],
   "source": [
    "#Checking the empty values ('') for all features\n",
    "id_e=[]\n",
    "street_e=[]\n",
    "suburb_e=[]\n",
    "gov_e=[]\n",
    "market_e=[]\n",
    "country_e=[]\n",
    "country_co_e=[]\n",
    "loc_type_e=[]\n",
    "long_e=[]\n",
    "lat_e=[]\n",
    "is_loc_exact_e=[]\n",
    "for index,row in location_df.iterrows():\n",
    "    if row[\"_id\"] == '':\n",
    "        id_e.append(index)\n",
    "\n",
    "    if row[\"street\"] == '':\n",
    "        street_e.append(index)\n",
    "        \n",
    "    if row[\"suburb\"] == '':\n",
    "        suburb_e.append(index)\n",
    "\n",
    "    if row[\"government_area\"] == '':\n",
    "        gov_e.append(index)\n",
    "\n",
    "    if row[\"market\"] == '':\n",
    "        market_e.append(index)\n",
    "\n",
    "    if row[\"country\"] == '':\n",
    "        country_e.append(index)\n",
    "    \n",
    "    if row[\"country_code\"] == '':\n",
    "        country_co_e.append(index)\n",
    "\n",
    "    if row[\"location_type\"] == '':\n",
    "        loc_type_e.append(index) \n",
    "\n",
    "    if row[\"longitude\"] == '':\n",
    "        long_e.append(index)\n",
    "\n",
    "    if row[\"latitude\"] == '':\n",
    "        lat_e.append(index)\n",
    "\n",
    "    if row[\"is_location_exact\"] == '':\n",
    "        is_loc_exact_e.append(index)   "
   ]
  },
  {
   "cell_type": "code",
   "execution_count": null,
   "metadata": {},
   "outputs": [],
   "source": [
    "empty_columns=[id_e,street_e,suburb_e,gov_e,market_e,country_e,country_co_e,loc_type_e,long_e,lat_e,is_loc_exact_e]\n",
    "for i in empty_columns:\n",
    "    print(len(i))"
   ]
  },
  {
   "cell_type": "code",
   "execution_count": 28,
   "metadata": {},
   "outputs": [],
   "source": [
    "# \"suburb\" & \"market\" have a empty values\n",
    "location_df[\"suburb\"]= location_df[\"suburb\"].replace({'':\"Not Specified\"})\n",
    "location_df[\"market\"]= location_df[\"market\"].replace({'':\"Not Specified\"})"
   ]
  },
  {
   "cell_type": "code",
   "execution_count": 30,
   "metadata": {},
   "outputs": [],
   "source": [
    "available_columns= {'_id':[], 'availability_30':[], 'availability_60':[], 'availability_90':[], 'availability_365':[]}\n",
    "\n",
    "for i in airbnb_df[\"_id\"]:\n",
    "    available_columns[\"_id\"].append(i)\n",
    "\n",
    "for i in airbnb_df[\"availability\"]:\n",
    "    available_columns[\"availability_30\"].append(i[\"availability_30\"])\n",
    "    available_columns[\"availability_60\"].append(i[\"availability_60\"])\n",
    "    available_columns[\"availability_90\"].append(i[\"availability_90\"])\n",
    "    available_columns[\"availability_365\"].append(i[\"availability_365\"])"
   ]
  },
  {
   "cell_type": "code",
   "execution_count": 31,
   "metadata": {},
   "outputs": [],
   "source": [
    "available_df = pd.DataFrame(available_columns)\n",
    "available_df"
   ]
  },
  {
   "cell_type": "code",
   "execution_count": 33,
   "metadata": {},
   "outputs": [],
   "source": [
    "merge_df = pd.merge(airbnb_df,host_df, on = \"_id\")\n",
    "merge_df2 = pd.merge(merge_df,location_df, on = \"_id\")\n",
    "merge_df3 = pd.merge(merge_df2,available_df, on = \"_id\")"
   ]
  },
  {
   "cell_type": "code",
   "execution_count": 35,
   "metadata": {},
   "outputs": [],
   "source": [
    "merge_df3[\"summary\"]= merge_df3[\"summary\"].replace({'':\"Not Specified\"})\n",
    "merge_df3[\"space\"]= merge_df3[\"space\"].replace({'':\"Not Specified\"})\n",
    "merge_df3[\"neighborhood_overview\"]= merge_df3[\"neighborhood_overview\"].replace({'':\"Not Specified\"})\n",
    "merge_df3[\"notes\"]= merge_df3[\"notes\"].replace({'':\"Not Specified\"})\n",
    "merge_df3[\"transit\"]= merge_df3[\"transit\"].replace({'':\"Not Specified\"})\n",
    "merge_df3[\"access\"]= merge_df3[\"access\"].replace({'':\"Not Specified\"})\n",
    "merge_df3[\"interaction\"]= merge_df3[\"interaction\"].replace({'':\"Not Specified\"})\n",
    "merge_df3[\"house_rules\"]= merge_df3[\"house_rules\"].replace({'':\"Not Specified\"})"
   ]
  },
  {
   "cell_type": "code",
   "execution_count": null,
   "metadata": {},
   "outputs": [],
   "source": [
    "merge_df3.drop('host', axis = 1, inplace = True)\n",
    "merge_df3.drop('address', axis = 1, inplace = True)\n",
    "merge_df3.drop('availability', axis = 1, inplace = True)\n",
    "merge_df3.drop('reviews', axis = 1, inplace = True)\n",
    "merge_df3.head(10)"
   ]
  },
  {
   "cell_type": "code",
   "execution_count": 38,
   "metadata": {},
   "outputs": [],
   "source": [
    "merge_df3.to_csv(\"Airbnb.csv\", index= False)"
   ]
  }
 ],
 "metadata": {
  "kernelspec": {
   "display_name": "Python 3",
   "language": "python",
   "name": "python3"
  },
  "language_info": {
   "codemirror_mode": {
    "name": "ipython",
    "version": 3
   },
   "file_extension": ".py",
   "mimetype": "text/x-python",
   "name": "python",
   "nbconvert_exporter": "python",
   "pygments_lexer": "ipython3",
   "version": "3.12.3"
  }
 },
 "nbformat": 4,
 "nbformat_minor": 2
}
